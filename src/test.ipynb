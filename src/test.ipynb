{
 "cells": [
  {
   "cell_type": "code",
   "execution_count": 1,
   "metadata": {},
   "outputs": [],
   "source": [
    "from clean_data import CruiseData"
   ]
  },
  {
   "cell_type": "code",
   "execution_count": 2,
   "metadata": {},
   "outputs": [
    {
     "name": "stdout",
     "output_type": "stream",
     "text": [
      "Table Name : [('cruise_pre',)]\n",
      "Table Name : [('cruise_post',)]\n"
     ]
    }
   ],
   "source": [
    "c = CruiseData(\"../../data\")"
   ]
  },
  {
   "cell_type": "code",
   "execution_count": 3,
   "metadata": {},
   "outputs": [
    {
     "data": {
      "text/plain": [
       "(14684, 19)"
      ]
     },
     "execution_count": 3,
     "metadata": {},
     "output_type": "execute_result"
    }
   ],
   "source": [
    "c.df_pre[c.df_pre['Date of Birth'].isna()].shape"
   ]
  },
  {
   "cell_type": "code",
   "execution_count": 3,
   "metadata": {},
   "outputs": [
    {
     "name": "stdout",
     "output_type": "stream",
     "text": [
      "['Source of Traffic', 'Embarkation/Disembarkation time convenient', 'Ease of Online booking', 'Gate location', 'Logging'] removed\n"
     ]
    }
   ],
   "source": [
    "c.remove_cols()"
   ]
  },
  {
   "cell_type": "code",
   "execution_count": 4,
   "metadata": {},
   "outputs": [
    {
     "name": "stdout",
     "output_type": "stream",
     "text": [
      "(133746, 14)\n",
      "(133746, 8)\n"
     ]
    }
   ],
   "source": [
    "print(c.df_pre.shape)\n",
    "print(c.df_post.shape)"
   ]
  },
  {
   "cell_type": "code",
   "execution_count": 5,
   "metadata": {},
   "outputs": [
    {
     "name": "stdout",
     "output_type": "stream",
     "text": [
      "Duplicated Ext_Intcode rows removed from cruise_post and cruise_pre dataframe\n"
     ]
    }
   ],
   "source": [
    "c.duplicate_handling()"
   ]
  },
  {
   "cell_type": "code",
   "execution_count": null,
   "metadata": {},
   "outputs": [],
   "source": [
    "c.df_pre[c.df_pre['Ext_Intcode'].duplicated()==True].shape"
   ]
  },
  {
   "cell_type": "code",
   "execution_count": null,
   "metadata": {},
   "outputs": [],
   "source": [
    "c.df_post.duplicated().sum()"
   ]
  },
  {
   "cell_type": "code",
   "execution_count": 6,
   "metadata": {},
   "outputs": [
    {
     "name": "stdout",
     "output_type": "stream",
     "text": [
      "14285 rows dropped from cruise_pre dataframe - Null Date of Birth\n",
      "11670 rows dropped from cruise_pre dataframe - Null Gender\n",
      "99724 rows dropped from cruise_pre dataframe - Age > 102\n",
      "Onboard Wifi Service fill null rows with N_A\n",
      "Onboard Dining Service fill null rows with N_A\n",
      "Onboard Entertainment fill null rows with N_A\n",
      "Online Check-in fill null rows with 0\n",
      "Cabin Comfort fill null rows with 0\n",
      "Cabin service fill null rows with 0\n",
      "Baggage handling fill null rows with 0\n",
      "Port Check-in Service fill null rows with 0\n",
      "Onboard Service fill null rows with 0\n",
      "Cleanliness fill null rows with 0\n",
      "0 rows dropped from cruise_post dataframe, null ticket type\n",
      "Standardized Cruise Names to Lapras and Blastoise\n",
      "64623\n",
      "33084\n",
      "Fill null values of Cruise Names accordingly based on ratios of available data\n",
      "Fill null values with 2 for cruise_post dataframe Entertainment and Wifi columns\n",
      "cruise_post dataframe rows with Cruise Distance Null Values dropped\n"
     ]
    }
   ],
   "source": [
    "c.null_handling()"
   ]
  },
  {
   "cell_type": "code",
   "execution_count": 7,
   "metadata": {},
   "outputs": [
    {
     "name": "stdout",
     "output_type": "stream",
     "text": [
      "Cruise_pre dataframe - Changed str categorical columns  ['Onboard Wifi Service', 'Onboard Dining Service', 'Onboard Entertainment']  to numeric \n",
      "Cruise_pre dataframe - Changed Gender column to numeric\n",
      "cruise_post dataframe - Bin ages to 5 bins\n",
      "cruise_post dataframe - Change cruise names to numeric categories\n",
      "cruise_post dataframe - Change ticket type numeric categories\n",
      "cruise_post dataframe - standardardized Cruise Distance to KM and normalize to 0-1\n"
     ]
    }
   ],
   "source": [
    "c.feature_engineering()"
   ]
  },
  {
   "cell_type": "code",
   "execution_count": 7,
   "metadata": {},
   "outputs": [
    {
     "name": "stdout",
     "output_type": "stream",
     "text": [
      "cruise_pre and cruise_post dataframes merged. Categorical columns changed to int8 type. Columns not need in pipeline removed\n"
     ]
    }
   ],
   "source": [
    "c.merge_dataframes()"
   ]
  },
  {
   "cell_type": "code",
   "execution_count": null,
   "metadata": {},
   "outputs": [],
   "source": [
    "import pandas as pd\n",
    "pd.set_option('display.max_columns', 50)\n",
    "c.df_merge.sample(50)\n"
   ]
  },
  {
   "cell_type": "code",
   "execution_count": 18,
   "metadata": {},
   "outputs": [],
   "source": [
    "import json"
   ]
  },
  {
   "cell_type": "code",
   "execution_count": 22,
   "metadata": {},
   "outputs": [],
   "source": [
    "f = open(\"config.yaml\")\n",
    "x = f.read()\n",
    "j = json.loads(x)\n",
    "f.close()"
   ]
  },
  {
   "cell_type": "code",
   "execution_count": 19,
   "metadata": {},
   "outputs": [],
   "source": [
    "\n",
    "\n",
    "from ml_train_predict import MLPipeline\n",
    "\n",
    "\n",
    "import pandas as pd\n",
    "#df = pd.read_csv(\"../test.csv\")\n",
    "p = MLPipeline(\"config.yaml\", c.df_merge)"
   ]
  },
  {
   "cell_type": "code",
   "execution_count": 21,
   "metadata": {},
   "outputs": [
    {
     "ename": "ImportError",
     "evalue": "module MLPipeline not in sys.modules",
     "output_type": "error",
     "traceback": [
      "\u001b[0;31m---------------------------------------------------------------------------\u001b[0m",
      "\u001b[0;31mImportError\u001b[0m                               Traceback (most recent call last)",
      "\u001b[1;32m/Users/tsbk679c/Documents/learning/testing/aiap15-Seah-Bee-Kheng-881D/src/test.ipynb Cell 18\u001b[0m line \u001b[0;36m1\n\u001b[0;32m----> <a href='vscode-notebook-cell:/Users/tsbk679c/Documents/learning/testing/aiap15-Seah-Bee-Kheng-881D/src/test.ipynb#X31sZmlsZQ%3D%3D?line=0'>1</a>\u001b[0m importlib\u001b[39m.\u001b[39;49mreload(MLPipeline)\n",
      "File \u001b[0;32m~/anaconda3/lib/python3.10/importlib/__init__.py:148\u001b[0m, in \u001b[0;36mreload\u001b[0;34m(module)\u001b[0m\n\u001b[1;32m    146\u001b[0m \u001b[39mif\u001b[39;00m sys\u001b[39m.\u001b[39mmodules\u001b[39m.\u001b[39mget(name) \u001b[39mis\u001b[39;00m \u001b[39mnot\u001b[39;00m module:\n\u001b[1;32m    147\u001b[0m     msg \u001b[39m=\u001b[39m \u001b[39m\"\u001b[39m\u001b[39mmodule \u001b[39m\u001b[39m{}\u001b[39;00m\u001b[39m not in sys.modules\u001b[39m\u001b[39m\"\u001b[39m\n\u001b[0;32m--> 148\u001b[0m     \u001b[39mraise\u001b[39;00m \u001b[39mImportError\u001b[39;00m(msg\u001b[39m.\u001b[39mformat(name), name\u001b[39m=\u001b[39mname)\n\u001b[1;32m    149\u001b[0m \u001b[39mif\u001b[39;00m name \u001b[39min\u001b[39;00m _RELOADING:\n\u001b[1;32m    150\u001b[0m     \u001b[39mreturn\u001b[39;00m _RELOADING[name]\n",
      "\u001b[0;31mImportError\u001b[0m: module MLPipeline not in sys.modules"
     ]
    }
   ],
   "source": [
    "importlib.reload(MLPipeline)\n",
    "#p.train_test_split()\n",
    "#p.train()\n"
   ]
  },
  {
   "cell_type": "code",
   "execution_count": 16,
   "metadata": {},
   "outputs": [
    {
     "name": "stderr",
     "output_type": "stream",
     "text": [
      "/Users/tsbk679c/anaconda3/lib/python3.10/site-packages/sklearn/linear_model/_logistic.py:460: ConvergenceWarning: lbfgs failed to converge (status=1):\n",
      "STOP: TOTAL NO. of ITERATIONS REACHED LIMIT.\n",
      "\n",
      "Increase the number of iterations (max_iter) or scale the data as shown in:\n",
      "    https://scikit-learn.org/stable/modules/preprocessing.html\n",
      "Please also refer to the documentation for alternative solver options:\n",
      "    https://scikit-learn.org/stable/modules/linear_model.html#logistic-regression\n",
      "  n_iter_i = _check_optimize_result(\n"
     ]
    },
    {
     "data": {
      "text/html": [
       "<style>#sk-container-id-4 {color: black;}#sk-container-id-4 pre{padding: 0;}#sk-container-id-4 div.sk-toggleable {background-color: white;}#sk-container-id-4 label.sk-toggleable__label {cursor: pointer;display: block;width: 100%;margin-bottom: 0;padding: 0.3em;box-sizing: border-box;text-align: center;}#sk-container-id-4 label.sk-toggleable__label-arrow:before {content: \"▸\";float: left;margin-right: 0.25em;color: #696969;}#sk-container-id-4 label.sk-toggleable__label-arrow:hover:before {color: black;}#sk-container-id-4 div.sk-estimator:hover label.sk-toggleable__label-arrow:before {color: black;}#sk-container-id-4 div.sk-toggleable__content {max-height: 0;max-width: 0;overflow: hidden;text-align: left;background-color: #f0f8ff;}#sk-container-id-4 div.sk-toggleable__content pre {margin: 0.2em;color: black;border-radius: 0.25em;background-color: #f0f8ff;}#sk-container-id-4 input.sk-toggleable__control:checked~div.sk-toggleable__content {max-height: 200px;max-width: 100%;overflow: auto;}#sk-container-id-4 input.sk-toggleable__control:checked~label.sk-toggleable__label-arrow:before {content: \"▾\";}#sk-container-id-4 div.sk-estimator input.sk-toggleable__control:checked~label.sk-toggleable__label {background-color: #d4ebff;}#sk-container-id-4 div.sk-label input.sk-toggleable__control:checked~label.sk-toggleable__label {background-color: #d4ebff;}#sk-container-id-4 input.sk-hidden--visually {border: 0;clip: rect(1px 1px 1px 1px);clip: rect(1px, 1px, 1px, 1px);height: 1px;margin: -1px;overflow: hidden;padding: 0;position: absolute;width: 1px;}#sk-container-id-4 div.sk-estimator {font-family: monospace;background-color: #f0f8ff;border: 1px dotted black;border-radius: 0.25em;box-sizing: border-box;margin-bottom: 0.5em;}#sk-container-id-4 div.sk-estimator:hover {background-color: #d4ebff;}#sk-container-id-4 div.sk-parallel-item::after {content: \"\";width: 100%;border-bottom: 1px solid gray;flex-grow: 1;}#sk-container-id-4 div.sk-label:hover label.sk-toggleable__label {background-color: #d4ebff;}#sk-container-id-4 div.sk-serial::before {content: \"\";position: absolute;border-left: 1px solid gray;box-sizing: border-box;top: 0;bottom: 0;left: 50%;z-index: 0;}#sk-container-id-4 div.sk-serial {display: flex;flex-direction: column;align-items: center;background-color: white;padding-right: 0.2em;padding-left: 0.2em;position: relative;}#sk-container-id-4 div.sk-item {position: relative;z-index: 1;}#sk-container-id-4 div.sk-parallel {display: flex;align-items: stretch;justify-content: center;background-color: white;position: relative;}#sk-container-id-4 div.sk-item::before, #sk-container-id-4 div.sk-parallel-item::before {content: \"\";position: absolute;border-left: 1px solid gray;box-sizing: border-box;top: 0;bottom: 0;left: 50%;z-index: -1;}#sk-container-id-4 div.sk-parallel-item {display: flex;flex-direction: column;z-index: 1;position: relative;background-color: white;}#sk-container-id-4 div.sk-parallel-item:first-child::after {align-self: flex-end;width: 50%;}#sk-container-id-4 div.sk-parallel-item:last-child::after {align-self: flex-start;width: 50%;}#sk-container-id-4 div.sk-parallel-item:only-child::after {width: 0;}#sk-container-id-4 div.sk-dashed-wrapped {border: 1px dashed gray;margin: 0 0.4em 0.5em 0.4em;box-sizing: border-box;padding-bottom: 0.4em;background-color: white;}#sk-container-id-4 div.sk-label label {font-family: monospace;font-weight: bold;display: inline-block;line-height: 1.2em;}#sk-container-id-4 div.sk-label-container {text-align: center;}#sk-container-id-4 div.sk-container {/* jupyter's `normalize.less` sets `[hidden] { display: none; }` but bootstrap.min.css set `[hidden] { display: none !important; }` so we also need the `!important` here to be able to override the default hidden behavior on the sphinx rendered scikit-learn.org. See: https://github.com/scikit-learn/scikit-learn/issues/21755 */display: inline-block !important;position: relative;}#sk-container-id-4 div.sk-text-repr-fallback {display: none;}</style><div id=\"sk-container-id-4\" class=\"sk-top-container\"><div class=\"sk-text-repr-fallback\"><pre>SVC()</pre><b>In a Jupyter environment, please rerun this cell to show the HTML representation or trust the notebook. <br />On GitHub, the HTML representation is unable to render, please try loading this page with nbviewer.org.</b></div><div class=\"sk-container\" hidden><div class=\"sk-item\"><div class=\"sk-estimator sk-toggleable\"><input class=\"sk-toggleable__control sk-hidden--visually\" id=\"sk-estimator-id-4\" type=\"checkbox\" checked><label for=\"sk-estimator-id-4\" class=\"sk-toggleable__label sk-toggleable__label-arrow\">SVC</label><div class=\"sk-toggleable__content\"><pre>SVC()</pre></div></div></div></div></div>"
      ],
      "text/plain": [
       "SVC()"
      ]
     },
     "execution_count": 16,
     "metadata": {},
     "output_type": "execute_result"
    }
   ],
   "source": [
    "from sklearn import tree, svm\n",
    "from sklearn.linear_model import LogisticRegression\n",
    "from sklearn.ensemble import RandomForestClassifier\n",
    "from sklearn.model_selection import train_test_split\n",
    "from sklearn.metrics import confusion_matrix, classification_report\n",
    "\n",
    "p = {'max_depth':3, 'criterion':'gini'}\n",
    "\n",
    "\n",
    "x = tree.DecisionTreeClassifier(max_depth=p['max_depth'], criterion=p['criterion'])\n",
    "\n",
    "X = c.df_merge.drop('Ticket Type', axis=1)\n",
    "Y = c.df_merge['Ticket Type']\n",
    "X_test = X.loc[70000:]\n",
    "Y_test = Y.loc[70000:]\n",
    "Xnew = X.loc[1:70000]\n",
    "Ynew = Y.loc[1:70000]\n",
    "\n",
    "X_train, X_val, Y_train, Y_val = train_test_split(X, Y, stratify=Y)\n",
    "Y_valnp = Y_val.to_numpy()\n",
    "Y_testnp = Y_test.to_numpy()\n",
    "\n",
    "clf = tree.DecisionTreeClassifier(criterion='gini')\n",
    "\n",
    "clf = clf.fit(X_train, Y_train)\n",
    "\n",
    "rclf = RandomForestClassifier()\n",
    "rclf = rclf.fit(X_train, Y_train)\n",
    "\n",
    "lclf = LogisticRegression()\n",
    "lclf.fit(X_train, Y_train)\n",
    "\n",
    "svmclf = svm.SVC()\n",
    "svmclf.fit(X_train, Y_train)"
   ]
  },
  {
   "cell_type": "code",
   "execution_count": 17,
   "metadata": {},
   "outputs": [
    {
     "data": {
      "text/plain": [
       "[Text(0.4, 0.8333333333333334, 'x[14] <= 1.5\\ngini = 0.565\\nsamples = 56928\\nvalue = [25522, 4198, 27208]'),\n",
       " Text(0.2, 0.5, 'gini = 0.0\\nsamples = 27208\\nvalue = [0, 0, 27208]'),\n",
       " Text(0.6, 0.5, 'x[16] <= 1.5\\ngini = 0.243\\nsamples = 29720\\nvalue = [25522, 4198, 0]'),\n",
       " Text(0.4, 0.16666666666666666, 'gini = 0.0\\nsamples = 4198\\nvalue = [0, 4198, 0]'),\n",
       " Text(0.8, 0.16666666666666666, 'gini = 0.0\\nsamples = 25522\\nvalue = [25522, 0, 0]')]"
      ]
     },
     "execution_count": 17,
     "metadata": {},
     "output_type": "execute_result"
    },
    {
     "data": {
      "image/png": "[encoded data removed]",
      "text/plain": [
       "<Figure size 640x480 with 1 Axes>"
      ]
     },
     "metadata": {},
     "output_type": "display_data"
    }
   ],
   "source": [
    "tree.plot_tree(clf)"
   ]
  },
  {
   "cell_type": "code",
   "execution_count": 3,
   "metadata": {},
   "outputs": [],
   "source": [
    "import pandas as pd\n",
    "df = pd.read_csv(\"../../test.csv\")"
   ]
  },
  {
   "cell_type": "code",
   "execution_count": 8,
   "metadata": {},
   "outputs": [],
   "source": [
    "from ml_train_predict import MLPipeline\n",
    "p = MLPipeline(\"config.yaml\",df)"
   ]
  },
  {
   "cell_type": "code",
   "execution_count": 9,
   "metadata": {},
   "outputs": [
    {
     "name": "stdout",
     "output_type": "stream",
     "text": [
      "              precision    recall  f1-score   support\n",
      "\n",
      "           0       1.00      1.00      1.00      3403\n",
      "           1       1.00      1.00      1.00       560\n",
      "           2       1.00      1.00      1.00      3628\n",
      "\n",
      "    accuracy                           1.00      7591\n",
      "   macro avg       1.00      1.00      1.00      7591\n",
      "weighted avg       1.00      1.00      1.00      7591\n",
      "\n",
      "[[3403    0    0]\n",
      " [   0  560    0]\n",
      " [   0    0 3628]]\n"
     ]
    }
   ],
   "source": [
    "p.train_test_split()\n",
    "p.train()\n",
    "p.predict()\n",
    "p.classification_report()\n",
    "p.confusion_matrix()"
   ]
  },
  {
   "cell_type": "code",
   "execution_count": 10,
   "metadata": {},
   "outputs": [
    {
     "data": {
      "text/plain": [
       "Index(['Onboard Wifi Service', 'Onboard Dining Service',\n",
       "       'Onboard Entertainment', 'Gender', 'Cabin Comfort', 'Cabin service',\n",
       "       'Baggage handling', 'Port Check-in Service', 'Onboard Service',\n",
       "       'Cleanliness', 'WiFi', 'Dining', 'Entertainment'],\n",
       "      dtype='object')"
      ]
     },
     "execution_count": 10,
     "metadata": {},
     "output_type": "execute_result"
    }
   ],
   "source": [
    "p.X.columns"
   ]
  },
  {
   "cell_type": "code",
   "execution_count": 11,
   "metadata": {},
   "outputs": [
    {
     "data": {
      "text/plain": [
       "Index(['Unnamed: 0', 'Gender', 'Onboard Wifi Service',\n",
       "       'Onboard Dining Service', 'Online Check-in', 'Cabin Comfort',\n",
       "       'Onboard Entertainment', 'Cabin service', 'Baggage handling',\n",
       "       'Port Check-in Service', 'Onboard Service', 'Cleanliness', 'age',\n",
       "       'Cruise Name', 'Ticket Type', 'Cruise Distance', 'WiFi', 'Dining',\n",
       "       'Entertainment'],\n",
       "      dtype='object')"
      ]
     },
     "execution_count": 11,
     "metadata": {},
     "output_type": "execute_result"
    }
   ],
   "source": [
    "df.columns"
   ]
  },
  {
   "cell_type": "code",
   "execution_count": null,
   "metadata": {},
   "outputs": [],
   "source": []
  }
 ],
 "metadata": {
  "kernelspec": {
   "display_name": "base",
   "language": "python",
   "name": "python3"
  },
  "language_info": {
   "codemirror_mode": {
    "name": "ipython",
    "version": 3
   },
   "file_extension": ".py",
   "mimetype": "text/x-python",
   "name": "python",
   "nbconvert_exporter": "python",
   "pygments_lexer": "ipython3",
   "version": "3.10.9"
  },
  "orig_nbformat": 4
 },
 "nbformat": 4,
 "nbformat_minor": 2
}
